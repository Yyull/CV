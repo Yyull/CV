{
 "cells": [
  {
   "cell_type": "code",
   "execution_count": 6,
   "id": "b9b4db64",
   "metadata": {},
   "outputs": [],
   "source": [
    "import numpy as np\n",
    "import cv2\n",
    "import albumentations as at\n",
    "\n",
    "# 원본 이미지를 입력받아 augmentation 적용하여 이미지를 파일로 저장하는 함수\n",
    "def aug_apply_and_save(image, filename_prefix, aug, blur_limits):\n",
    "    # 원본 이미지 저장\n",
    "    cv2.imwrite(f'{filename_prefix}_origin.jpg', cv2.cvtColor(image, cv2.COLOR_RGB2BGR))\n",
    "\n",
    "    for i, blur_limit in enumerate(blur_limits, 1):\n",
    "        # 해당 blur_limit로 augmentation 적용된 이미지 저장\n",
    "        aug_image = aug(image=image)['image']\n",
    "        cv2.imwrite(f'{filename_prefix}_blur{blur_limit}_{i}.jpg', cv2.cvtColor(aug_image, cv2.COLOR_RGB2BGR))\n",
    "\n",
    "# 이미지 경로\n",
    "image_path = 'C:/Users/yrh07/ML+DL Study/true_1_flipped.jpg'\n",
    "# 이미지 읽어오기\n",
    "image = cv2.cvtColor(cv2.imread(image_path), cv2.COLOR_BGR2RGB)\n",
    "\n",
    "# augmentation 적용\n",
    "aug_horizontal = at.HorizontalFlip(p=0.5)\n",
    "aug_vertical = at.VerticalFlip(p=0.5)\n",
    "aug_rotate = at.Rotate(limit=90, p=1, border_mode=cv2.BORDER_REPLICATE)\n",
    "aug_random_rotate = at.RandomRotate90(p=1)\n",
    "aug_gaussian_blur = at.GaussianBlur(always_apply=False, p=1.0)\n",
    "\n",
    "# 저장할 파일명\n",
    "filename_prefix = 'C:/Users/yrh07/ML+DL Study/True/true_1_flipped'\n",
    "\n",
    "# 블러 적용 범위\n",
    "blur_limits = [3, 5, 7, 9, 11]\n",
    "\n",
    "# 각 augmentation 및 blur_limit에 대해 이미지 생성 및 저장\n",
    "aug_apply_and_save(image=image, filename_prefix=filename_prefix + '_horizontal', aug=aug_horizontal, blur_limits=blur_limits)\n",
    "aug_apply_and_save(image=image, filename_prefix=filename_prefix + '_vertical', aug=aug_vertical, blur_limits=blur_limits)\n",
    "aug_apply_and_save(image=image, filename_prefix=filename_prefix + '_rotate', aug=aug_rotate, blur_limits=blur_limits)\n",
    "aug_apply_and_save(image=image, filename_prefix=filename_prefix + '_random_rotate', aug=aug_random_rotate, blur_limits=blur_limits)\n",
    "aug_apply_and_save(image=image, filename_prefix=filename_prefix + '_gaussian_blur', aug=aug_gaussian_blur, blur_limits=blur_limits)"
   ]
  }
 ],
 "metadata": {
  "kernelspec": {
   "display_name": "Python 3 (ipykernel)",
   "language": "python",
   "name": "python3"
  },
  "language_info": {
   "codemirror_mode": {
    "name": "ipython",
    "version": 3
   },
   "file_extension": ".py",
   "mimetype": "text/x-python",
   "name": "python",
   "nbconvert_exporter": "python",
   "pygments_lexer": "ipython3",
   "version": "3.11.5"
  }
 },
 "nbformat": 4,
 "nbformat_minor": 5
}
